{
 "cells": [
  {
   "cell_type": "raw",
   "id": "882bc32f-f6c6-423f-8ffc-2ba318686c01",
   "metadata": {},
   "source": [
    "Project: Student Performance Analysis\n",
    "This project analyzes student performance data (e.g., scores in various subjects) and visualizes key insights."
   ]
  },
  {
   "cell_type": "code",
   "execution_count": 1,
   "id": "0b60741b-1a44-4060-9be3-b515999ec5b1",
   "metadata": {},
   "outputs": [],
   "source": [
    "import numpy as np\n",
    "import pandas as pd\n",
    "import matplotlib.pyplot as plt"
   ]
  },
  {
   "cell_type": "code",
   "execution_count": 2,
   "id": "b0a416cf-976f-4054-9fef-6104835d652f",
   "metadata": {},
   "outputs": [],
   "source": [
    "data = {\n",
    "    \"Student\": [\"Alice\", \"Bob\", \"Charlie\", \"David\", \"Eva\"],\n",
    "    \"Math\": [88, 76, 90, 85, 92],\n",
    "    \"Science\": [95, 89, 86, 84, 90],\n",
    "    \"English\": [78, 82, 88, 85, 91],\n",
    "}"
   ]
  },
  {
   "cell_type": "code",
   "execution_count": 3,
   "id": "a2761fa7-12c4-4e46-af09-b33b69266675",
   "metadata": {},
   "outputs": [],
   "source": [
    "df = pd.DataFrame(data)"
   ]
  },
  {
   "cell_type": "code",
   "execution_count": 4,
   "id": "ddd461b8-6689-4d21-ab01-727d5b492795",
   "metadata": {},
   "outputs": [],
   "source": [
    "df[\"Total\"] = df[[\"Math\", \"Science\", \"English\"]].sum(axis=1)\n",
    "df[\"Average\"] = df[[\"Math\", \"Science\", \"English\"]].mean(axis=1)\n"
   ]
  },
  {
   "cell_type": "code",
   "execution_count": 5,
   "id": "f61eb468-da00-42ff-a405-03c1210990d9",
   "metadata": {},
   "outputs": [],
   "source": [
    "subject_means = np.mean(df[[\"Math\", \"Science\", \"English\"]], axis=0)\n",
    "subject_std_devs = np.std(df[[\"Math\", \"Science\", \"English\"]], axis=0)\n"
   ]
  },
  {
   "cell_type": "code",
   "execution_count": 11,
   "id": "c84664da-c858-4465-80ea-b8ebf5429a50",
   "metadata": {},
   "outputs": [],
   "source": [
    "def visualize_data():\n",
    "    # Bar chart for average subject scores\n",
    "    plt.figure(figsize=(10, 6))\n",
    "    plt.bar([\"Math\", \"Science\", \"English\"], subject_means, yerr=subject_std_devs, color=\"skyblue\", capsize=5)\n",
    "    plt.title(\"Average Scores by Subject\")\n",
    "    plt.ylabel(\"Scores\")\n",
    "    plt.xlabel(\"Subjects\")\n",
    "    plt.grid(axis=\"y\", linestyle=\"--\", alpha=0.7)\n",
    "    plt.show()\n",
    "    @ Pie chart for total scores distribution\n",
    "    plt.figure(figsize=(8, 8))\n",
    "    plt.pie(df[\"Total\"], labels=df[\"Student\"], autopct=\"%1.1f%%\", startangle=140, colors=plt.cm.tab20.colors)\n",
    "    plt.title(\"Total Scores Distribution\")\n",
    "    plt.show()"
   ]
  },
  {
   "cell_type": "code",
   "execution_count": 15,
   "id": "67cab7c0-10d2-49a5-b78e-a45c340a34b9",
   "metadata": {},
   "outputs": [
    {
     "ename": "IndentationError",
     "evalue": "unexpected indent (2575775808.py, line 2)",
     "output_type": "error",
     "traceback": [
      "\u001b[1;36m  Cell \u001b[1;32mIn[15], line 2\u001b[1;36m\u001b[0m\n\u001b[1;33m    plt.figure(figsize=(8, 8))\u001b[0m\n\u001b[1;37m    ^\u001b[0m\n\u001b[1;31mIndentationError\u001b[0m\u001b[1;31m:\u001b[0m unexpected indent\n"
     ]
    }
   ],
   "source": [
    " #\n",
    "    "
   ]
  },
  {
   "cell_type": "code",
   "execution_count": null,
   "id": "c96019df-7e00-472c-b12b-f1a2c87cab17",
   "metadata": {},
   "outputs": [],
   "source": [
    " # Line chart for individual performance\n",
    "    plt.figure(figsize=(10, 6))\n",
    "    for subject in [\"Math\", \"Science\", \"English\"]:\n",
    "        plt.plot(df[\"Student\"], df[subject], marker=\"o\", label=subject)\n",
    "    plt.title(\"Individual Subject Performance\")\n",
    "    plt.xlabel(\"Students\")\n",
    "    plt.ylabel(\"Scores\")\n",
    "    plt.legend()\n",
    "    plt.grid(alpha=0.5)\n",
    "    plt.show()"
   ]
  },
  {
   "cell_type": "code",
   "execution_count": null,
   "id": "52734276-35f7-44d7-b2c5-f2a159581301",
   "metadata": {},
   "outputs": [],
   "source": [
    "# Step 5: Display insights\n",
    "def display_insights():\n",
    "    print(\"\\nStudent Performance Data:\")\n",
    "    print(df)\n",
    "\n",
    "    print(\"\\nStatistical Insights:\")\n",
    "    for subject, mean, std in zip([\"Math\", \"Science\", \"English\"], subject_means, subject_std_devs):\n",
    "        print(f\"{subject}: Mean = {mean:.2f}, Std Dev = {std:.2f}\")\n",
    "\n",
    "    top_student = df.loc[df[\"Total\"].idxmax()]\n",
    "    print(f\"\\nTop Performer: {top_student['Student']} (Total = {top_student['Total']}, Average = {top_student['Average']:.2f})\\n\")"
   ]
  },
  {
   "cell_type": "code",
   "execution_count": null,
   "id": "139c5647-26a0-4c48-86c3-2560d3b47865",
   "metadata": {},
   "outputs": [],
   "source": [
    "# Main Function\n",
    "def main():\n",
    "    print(\"Student Performance Analysis\")\n",
    "    display_insights()\n",
    "    visualize_data()\n",
    "\n",
    "if __name__ == \"__main__\":\n",
    "    main()"
   ]
  },
  {
   "cell_type": "code",
   "execution_count": null,
   "id": "b5616cf3-a8e2-4752-8f32-e9c55e252af3",
   "metadata": {},
   "outputs": [],
   "source": []
  },
  {
   "cell_type": "code",
   "execution_count": null,
   "id": "c754ebc1-e3e4-412d-b756-8010fb060ba7",
   "metadata": {},
   "outputs": [],
   "source": []
  },
  {
   "cell_type": "code",
   "execution_count": null,
   "id": "558f1740-def0-4bfe-8419-cdacd28e2c4e",
   "metadata": {},
   "outputs": [],
   "source": []
  }
 ],
 "metadata": {
  "kernelspec": {
   "display_name": "Python 3 (ipykernel)",
   "language": "python",
   "name": "python3"
  },
  "language_info": {
   "codemirror_mode": {
    "name": "ipython",
    "version": 3
   },
   "file_extension": ".py",
   "mimetype": "text/x-python",
   "name": "python",
   "nbconvert_exporter": "python",
   "pygments_lexer": "ipython3",
   "version": "3.12.4"
  }
 },
 "nbformat": 4,
 "nbformat_minor": 5
}
